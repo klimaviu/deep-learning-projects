{
 "cells": [
  {
   "cell_type": "markdown",
   "metadata": {},
   "source": [
    "# Initial file download"
   ]
  },
  {
   "cell_type": "code",
   "execution_count": 2,
   "metadata": {},
   "outputs": [],
   "source": [
    "import torch\n",
    "import ssl\n",
    "import os\n",
    "import pandas as pd\n",
    "from openimages.download import download_dataset\n",
    "from file_utils import extract_specific_files_for_classes, combine_directories, delete_images_without_masks, read_annotations"
   ]
  },
  {
   "cell_type": "code",
   "execution_count": 3,
   "metadata": {},
   "outputs": [],
   "source": [
    "ssl._create_default_https_context = ssl._create_unverified_context\n",
    "\n",
    "torch.hub.set_dir(d = \"C:\\\\Users\\\\Ugne\\\\torch\\\\hub\")\n",
    "\n",
    "data_dir = \"images\"\n",
    "device = \"cuda\"\n",
    "classes =  [\"Person\", \"Skyscraper\", \"Car\"]\n",
    "\n",
    "class_mapping = {'Skyscraper': 1, 'Car': 2, 'Person': 3}\n",
    "\n",
    "def get_dir_for_class(class_name, masks_or_images=\"images\"):\n",
    "    return data_dir+\"/\"+class_name.lower()+\"/\"+masks_or_images\n",
    "\n",
    "download_dirs = [get_dir_for_class(c) for c in classes]+[\"images/all\"]"
   ]
  },
  {
   "cell_type": "code",
   "execution_count": null,
   "metadata": {},
   "outputs": [],
   "source": [
    "if not os.path.exists(data_dir):\n",
    "    os.makedirs(data_dir)\n",
    "\n",
    "download_dataset(data_dir, classes, limit=1000)"
   ]
  },
  {
   "cell_type": "code",
   "execution_count": 9,
   "metadata": {},
   "outputs": [],
   "source": [
    "all_label_names = pd.read_csv(data_dir+'\\class-descriptions-boxable.csv', names = [\"label_name\", \"class\"])\n",
    "class_label_names = all_label_names[all_label_names[\"class\"].isin(classes)]\n",
    "\n",
    "all_annotations = pd.concat([read_annotations(dataset_type=t) for t in [\"train\", \"validation\", \"test\"]])\n",
    "annotations = all_annotations.merge(class_label_names, how = \"inner\", left_on = \"LabelName\", right_on=\"label_name\")\n",
    "\n",
    "validation_test_annotations = annotations[annotations[\"type\"].isin([\"validation\", \"test\"])]\n",
    "validation_test_annotations[\"for_download\"] = validation_test_annotations[\"type\"]+\"/\"+validation_test_annotations[\"ImageID\"]\n",
    "\n",
    "validation_test_annotations[[\"for_download\"]].to_csv(\"validation_test_list.txt\", header=False, index=False)"
   ]
  },
  {
   "cell_type": "code",
   "execution_count": 15,
   "metadata": {},
   "outputs": [
    {
     "data": {
      "text/html": [
       "<div>\n",
       "<style scoped>\n",
       "    .dataframe tbody tr th:only-of-type {\n",
       "        vertical-align: middle;\n",
       "    }\n",
       "\n",
       "    .dataframe tbody tr th {\n",
       "        vertical-align: top;\n",
       "    }\n",
       "\n",
       "    .dataframe thead th {\n",
       "        text-align: right;\n",
       "    }\n",
       "</style>\n",
       "<table border=\"1\" class=\"dataframe\">\n",
       "  <thead>\n",
       "    <tr style=\"text-align: right;\">\n",
       "      <th></th>\n",
       "      <th>MaskPath</th>\n",
       "      <th>ImageID</th>\n",
       "      <th>LabelName</th>\n",
       "      <th>BoxID</th>\n",
       "      <th>BoxXMin</th>\n",
       "      <th>BoxXMax</th>\n",
       "      <th>BoxYMin</th>\n",
       "      <th>BoxYMax</th>\n",
       "      <th>PredictedIoU</th>\n",
       "      <th>Clicks</th>\n",
       "      <th>type</th>\n",
       "    </tr>\n",
       "  </thead>\n",
       "  <tbody>\n",
       "    <tr>\n",
       "      <th>29515</th>\n",
       "      <td>2e4169d29fd631e5_m0k4j_09d392d5.png</td>\n",
       "      <td>2e4169d29fd631e5</td>\n",
       "      <td>/m/0k4j</td>\n",
       "      <td>09d392d5</td>\n",
       "      <td>0.0</td>\n",
       "      <td>0.429204</td>\n",
       "      <td>0.212389</td>\n",
       "      <td>0.646018</td>\n",
       "      <td>0.0</td>\n",
       "      <td>NaN</td>\n",
       "      <td>test</td>\n",
       "    </tr>\n",
       "  </tbody>\n",
       "</table>\n",
       "</div>"
      ],
      "text/plain": [
       "                                  MaskPath           ImageID  ... Clicks  type\n",
       "29515  2e4169d29fd631e5_m0k4j_09d392d5.png  2e4169d29fd631e5  ...    NaN  test\n",
       "\n",
       "[1 rows x 11 columns]"
      ]
     },
     "execution_count": 15,
     "metadata": {},
     "output_type": "execute_result"
    }
   ],
   "source": [
    "all_annotations[all_annotations[\"ImageID\"] == \"2e4169d29fd631e5\"]"
   ]
  },
  {
   "cell_type": "code",
   "execution_count": null,
   "metadata": {},
   "outputs": [],
   "source": [
    "!python downloader.py validation_test_list.txt --download_folder=\"images/all\" --num_processes=5"
   ]
  },
  {
   "cell_type": "code",
   "execution_count": null,
   "metadata": {},
   "outputs": [],
   "source": [
    "downloaded_images = sum([os.listdir(d) for d in download_dirs], [])\n",
    "downloaded_image_ids = [i.replace(\".jpg\", \"\") for i in downloaded_images]\n",
    "\n",
    "downloaded_annotations = annotations[annotations[\"ImageID\"].isin(downloaded_image_ids)]\n",
    "downloaded_annotations[\"ImageID_first_character\"] = downloaded_annotations[\"ImageID\"].str.slice(0, 1)\n",
    "\n",
    "downloaded_annotations.to_csv(\"downloaded_annotations.csv\", index=False)"
   ]
  },
  {
   "cell_type": "code",
   "execution_count": null,
   "metadata": {},
   "outputs": [],
   "source": [
    "zip_file_groups = set(downloaded_annotations[\"ImageID_first_character\"])\n",
    "\n",
    "extract_specific_files_for_classes(annotation_df = downloaded_annotations, classes = classes, groups = zip_file_groups)\n",
    "extract_specific_files_for_classes(annotation_df = downloaded_annotations, classes = classes, groups = zip_file_groups, zip_prefix = \"validation-masks-\")\n",
    "extract_specific_files_for_classes(annotation_df = downloaded_annotations, classes = classes, groups = zip_file_groups, zip_prefix = \"test-masks-\")"
   ]
  },
  {
   "cell_type": "code",
   "execution_count": null,
   "metadata": {},
   "outputs": [],
   "source": [
    "masks_per_image = downloaded_annotations.groupby([\"ImageID\"], as_index=False)\\\n",
    "    .agg(masks = (\"MaskPath\", \"nunique\"), unique_classes = (\"LabelName\", \"nunique\"))\\\n",
    "    .sort_values(by = \"unique_classes\", ascending=False)\n",
    "\n",
    "masks_per_image"
   ]
  },
  {
   "cell_type": "code",
   "execution_count": null,
   "metadata": {},
   "outputs": [],
   "source": [
    "target_dir = \"images\\\\all\"\n",
    "\n",
    "combine_directories(download_dirs, target_dir)\n",
    "\n",
    "delete_images_without_masks(images_dir = target_dir, classes=classes)"
   ]
  }
 ],
 "metadata": {
  "kernelspec": {
   "display_name": ".venv",
   "language": "python",
   "name": "python3"
  },
  "language_info": {
   "codemirror_mode": {
    "name": "ipython",
    "version": 3
   },
   "file_extension": ".py",
   "mimetype": "text/x-python",
   "name": "python",
   "nbconvert_exporter": "python",
   "pygments_lexer": "ipython3",
   "version": "3.11.8"
  }
 },
 "nbformat": 4,
 "nbformat_minor": 2
}
